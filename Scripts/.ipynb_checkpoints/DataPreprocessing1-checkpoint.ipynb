{
 "cells": [
  {
   "cell_type": "code",
   "execution_count": 1,
   "id": "2d670353",
   "metadata": {},
   "outputs": [],
   "source": [
    "from glob import glob\n",
    "import shutil\n",
    "import os\n",
    "import dicom2nifti\n",
    "from tqdm import tqdm"
   ]
  },
  {
   "cell_type": "code",
   "execution_count": 3,
   "id": "174fccdc",
   "metadata": {},
   "outputs": [],
   "source": [
    "list_images = glob('E:/Liver_Segementation_prg/dcom_groups/images/*')\n",
    "list_labels = glob('E:/Liver_Segementation_prg/dcom_groups/labels/*')"
   ]
  },
  {
   "cell_type": "code",
   "execution_count": 4,
   "id": "3f85d6a8",
   "metadata": {},
   "outputs": [],
   "source": [
    "out_path_images = 'E:/Liver_Segementation_prg/nifti_files/images'\n",
    "out_path_labels = 'E:/Liver_Segementation_prg/nifti_files/labels'"
   ]
  },
  {
   "cell_type": "code",
   "execution_count": null,
   "id": "a6c01e8d",
   "metadata": {},
   "outputs": [
    {
     "name": "stderr",
     "output_type": "stream",
     "text": [
      "  6%|██████████                                                                                                                                                                  | 50/854 [01:31<25:46,  1.92s/it]"
     ]
    }
   ],
   "source": [
    "for i in tqdm(range(len(list_labels))):\n",
    "    p_name = os.path.basename(os.path.normpath(list_labels[i]))\n",
    "    dicom2nifti.dicom_series_to_nifti(list_labels[i],os.path.join(out_path_labels,p_name+'.nii.gz'))"
   ]
  },
  {
   "cell_type": "code",
   "execution_count": null,
   "id": "dc17eab0",
   "metadata": {},
   "outputs": [],
   "source": []
  }
 ],
 "metadata": {
  "kernelspec": {
   "display_name": "Python 3 (ipykernel)",
   "language": "python",
   "name": "python3"
  },
  "language_info": {
   "codemirror_mode": {
    "name": "ipython",
    "version": 3
   },
   "file_extension": ".py",
   "mimetype": "text/x-python",
   "name": "python",
   "nbconvert_exporter": "python",
   "pygments_lexer": "ipython3",
   "version": "3.9.7"
  }
 },
 "nbformat": 4,
 "nbformat_minor": 5
}
