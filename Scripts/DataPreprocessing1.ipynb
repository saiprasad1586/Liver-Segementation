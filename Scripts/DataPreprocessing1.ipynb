{
 "cells": [
  {
   "cell_type": "code",
   "execution_count": 3,
   "id": "9af0a4d9",
   "metadata": {},
   "outputs": [
    {
     "name": "stdout",
     "output_type": "stream",
     "text": [
      "Requirement already satisfied: dicom2nifti in c:\\users\\saipr\\.conda\\envs\\liver_segementation\\lib\\site-packages (2.3.0)\n",
      "Requirement already satisfied: nibabel in c:\\users\\saipr\\.conda\\envs\\liver_segementation\\lib\\site-packages (from dicom2nifti) (3.2.1)\n",
      "Requirement already satisfied: numpy in c:\\users\\saipr\\.conda\\envs\\liver_segementation\\lib\\site-packages (from dicom2nifti) (1.22.0)\n",
      "Requirement already satisfied: scipy in c:\\users\\saipr\\.conda\\envs\\liver_segementation\\lib\\site-packages (from dicom2nifti) (1.7.3)\n",
      "Requirement already satisfied: pydicom>=1.3.0 in c:\\users\\saipr\\.conda\\envs\\liver_segementation\\lib\\site-packages (from dicom2nifti) (2.2.2)\n",
      "Requirement already satisfied: packaging>=14.3 in c:\\users\\saipr\\.conda\\envs\\liver_segementation\\lib\\site-packages (from nibabel->dicom2nifti) (21.3)\n",
      "Requirement already satisfied: pyparsing!=3.0.5,>=2.0.2 in c:\\users\\saipr\\.conda\\envs\\liver_segementation\\lib\\site-packages (from packaging>=14.3->nibabel->dicom2nifti) (3.0.4)\n"
     ]
    }
   ],
   "source": [
    "!pip install dicom2nifti --upgrade"
   ]
  },
  {
   "cell_type": "code",
   "execution_count": 1,
   "id": "2d670353",
   "metadata": {},
   "outputs": [
    {
     "name": "stderr",
     "output_type": "stream",
     "text": [
      "C:\\Users\\saipr\\.conda\\envs\\liver_segementation\\lib\\site-packages\\dicom\\__init__.py:53: UserWarning: \n",
      "This code is using an older version of pydicom, which is no longer \n",
      "maintained as of Jan 2017.  You can access the new pydicom features and API \n",
      "by installing `pydicom` from PyPI.\n",
      "See 'Transitioning to pydicom 1.x' section at pydicom.readthedocs.org \n",
      "for more information.\n",
      "\n",
      "  warnings.warn(msg)\n"
     ]
    }
   ],
   "source": [
    "from glob import glob\n",
    "import shutil\n",
    "import os\n",
    "import dicom2nifti\n",
    "from tqdm import tqdm"
   ]
  },
  {
   "cell_type": "code",
   "execution_count": 2,
   "id": "174fccdc",
   "metadata": {},
   "outputs": [],
   "source": [
    "list_images = glob('E:/Liver_Segementation_prg/dcom_groups/images/*')\n",
    "list_labels = glob('E:/Liver_Segementation_prg/dcom_groups/labels/*')"
   ]
  },
  {
   "cell_type": "code",
   "execution_count": 3,
   "id": "3f85d6a8",
   "metadata": {},
   "outputs": [],
   "source": [
    "out_path_images = 'E:/Liver_Segementation_prg/nifti_files/images'\n",
    "out_path_labels = 'E:/Liver_Segementation_prg/nifti_files/labels'"
   ]
  },
  {
   "cell_type": "code",
   "execution_count": 4,
   "id": "a6c01e8d",
   "metadata": {},
   "outputs": [
    {
     "name": "stderr",
     "output_type": "stream",
     "text": [
      "100%|███████████████████████████████████████████████████████████████████████████████████████████████████████████████████████████████████████████████████████████████████████████| 734/734 [23:18<00:00,  1.91s/it]\n"
     ]
    }
   ],
   "source": [
    "for i in tqdm(range(len(list_labels))):\n",
    "#     print(list_labels[i])\n",
    "    p_name = os.path.basename(os.path.normpath(list_labels[i]))\n",
    "    dicom2nifti.dicom_series_to_nifti(list_labels[i],os.path.join(out_path_labels,p_name+'.nii.gz'))"
   ]
  },
  {
   "cell_type": "code",
   "execution_count": 5,
   "id": "dc17eab0",
   "metadata": {},
   "outputs": [],
   "source": [
    "from glob import glob\n",
    "import shutil\n",
    "import os\n",
    "import dicom2nifti\n",
    "import nibabel as nib\n",
    "import numpy as np"
   ]
  },
  {
   "cell_type": "code",
   "execution_count": 9,
   "id": "292b42a5",
   "metadata": {},
   "outputs": [
    {
     "name": "stderr",
     "output_type": "stream",
     "text": [
      "100%|███████████████████████████████████████████████████████████████████████████████████████████████████████████████████████████████████████████████████████████████████████████| 734/734 [12:31<00:00,  1.02s/it]"
     ]
    },
    {
     "name": "stdout",
     "output_type": "stream",
     "text": [
      "398\n"
     ]
    },
    {
     "name": "stderr",
     "output_type": "stream",
     "text": [
      "\n"
     ]
    }
   ],
   "source": [
    "input_niffti_file_path = 'E:/Liver_Segementation_prg/nifti_files/labels/*'\n",
    "count = 0\n",
    "lst = []\n",
    "for p in tqdm(glob(input_niffti_file_path)):\n",
    "    niffti_file = nib.load(p)\n",
    "    fdata = niffti_file.get_fdata()\n",
    "    np_unique = np.unique(fdata)\n",
    "    if len(np_unique) == 1:\n",
    "#         print(np_unique)\n",
    "#         print(p) \n",
    "        base_name = os.path.basename(p)\n",
    "        lst.append(base_name)\n",
    "        os.remove(p)\n",
    "        count+=1\n",
    "\n",
    "print(count)"
   ]
  },
  {
   "cell_type": "code",
   "execution_count": 12,
   "id": "8e0de7dd",
   "metadata": {
    "scrolled": false
   },
   "outputs": [
    {
     "name": "stderr",
     "output_type": "stream",
     "text": [
      "100%|█████████████████████████████████████████████████████████████████████████████████████████████████████████████████████████████████████████████████████████████████████████| 398/398 [00:00<00:00, 8765.53it/s]\n"
     ]
    }
   ],
   "source": [
    "input_niffti_file_img_path = 'E:/Liver_Segementation_prg/nifti_files/images/'\n",
    "\n",
    "for i in tqdm(range(len(lst))):\n",
    "    \n",
    "    os.remove(os.path.join(input_niffti_file_img_path,lst[i]))"
   ]
  }
 ],
 "metadata": {
  "kernelspec": {
   "display_name": "Python 3 (ipykernel)",
   "language": "python",
   "name": "python3"
  },
  "language_info": {
   "codemirror_mode": {
    "name": "ipython",
    "version": 3
   },
   "file_extension": ".py",
   "mimetype": "text/x-python",
   "name": "python",
   "nbconvert_exporter": "python",
   "pygments_lexer": "ipython3",
   "version": "3.9.7"
  }
 },
 "nbformat": 4,
 "nbformat_minor": 5
}
