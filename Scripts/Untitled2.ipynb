{
 "cells": [
  {
   "cell_type": "code",
   "execution_count": 1,
   "id": "2f1d6d22",
   "metadata": {},
   "outputs": [],
   "source": [
    "from glob import glob\n",
    "import shutil\n",
    "import os\n",
    "import dicom2nifti\n",
    "import nibabel as nib\n",
    "import numpy as np"
   ]
  },
  {
   "cell_type": "code",
   "execution_count": 5,
   "id": "ac06e22b",
   "metadata": {},
   "outputs": [
    {
     "data": {
      "text/plain": [
       "123"
      ]
     },
     "execution_count": 5,
     "metadata": {},
     "output_type": "execute_result"
    }
   ],
   "source": [
    "in_path = 'E:\\Liver_Segementation_prg\\Dcom_files\\images/*'\n",
    "\n",
    "len(os.listdir(glob(in_path)[1]))"
   ]
  },
  {
   "cell_type": "code",
   "execution_count": 7,
   "id": "c4f0c4f7",
   "metadata": {},
   "outputs": [
    {
     "name": "stdout",
     "output_type": "stream",
     "text": [
      "74\n"
     ]
    }
   ],
   "source": [
    "in_path = 'E:\\Liver_Segementation_prg\\Dcom_files\\images/*'\n",
    "\n",
    "count = 0\n",
    "max = 99999\n",
    "for i in glob(in_path):\n",
    "    count = len(os.listdir(i))\n",
    "    count = min(max,count)\n",
    "    max = count\n",
    "    \n",
    "print(count)\n",
    "    "
   ]
  }
 ],
 "metadata": {
  "kernelspec": {
   "display_name": "Python 3 (ipykernel)",
   "language": "python",
   "name": "python3"
  },
  "language_info": {
   "codemirror_mode": {
    "name": "ipython",
    "version": 3
   },
   "file_extension": ".py",
   "mimetype": "text/x-python",
   "name": "python",
   "nbconvert_exporter": "python",
   "pygments_lexer": "ipython3",
   "version": "3.9.7"
  }
 },
 "nbformat": 4,
 "nbformat_minor": 5
}
